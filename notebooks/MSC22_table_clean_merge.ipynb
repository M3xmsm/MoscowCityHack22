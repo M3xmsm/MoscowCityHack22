{
 "cells": [
  {
   "cell_type": "code",
   "execution_count": null,
   "id": "34b84ab1",
   "metadata": {},
   "outputs": [],
   "source": [
    "import pandas as pd\n",
    "import numpy as np"
   ]
  },
  {
   "cell_type": "code",
   "execution_count": null,
   "id": "cae649fb",
   "metadata": {},
   "outputs": [],
   "source": [
    "df_im_full = pd.read_csv('/Users/mariabukhtiyarova/Documents/hackathon_june/InvestMoscow_пром_компании_мск.csv', converters={'inn':str})"
   ]
  },
  {
   "cell_type": "code",
   "execution_count": null,
   "id": "a95cf5b3",
   "metadata": {},
   "outputs": [],
   "source": [
    "df_im_full"
   ]
  },
  {
   "cell_type": "code",
   "execution_count": null,
   "id": "c3554e1a",
   "metadata": {},
   "outputs": [],
   "source": [
    "df_im = df_im_full[['name', 'inn']]"
   ]
  },
  {
   "cell_type": "code",
   "execution_count": null,
   "id": "b1d75198",
   "metadata": {},
   "outputs": [],
   "source": [
    "df_im"
   ]
  },
  {
   "cell_type": "code",
   "execution_count": null,
   "id": "a04692ea",
   "metadata": {},
   "outputs": [],
   "source": [
    "df_mp_producers_full = pd.read_csv('/Users/mariabukhtiyarova/Documents/hackathon_june/Minpromtorg_Russian_producers.csv', converters={'OGRN': str})"
   ]
  },
  {
   "cell_type": "code",
   "execution_count": null,
   "id": "68fb17d5",
   "metadata": {},
   "outputs": [],
   "source": [
    "df_mp_producers_full = df_mp_producers_full.rename(columns={'Nameoforg': 'name', 'INN': 'inn', 'OGRN': 'ogrn', 'Address': 'address'})"
   ]
  },
  {
   "cell_type": "code",
   "execution_count": null,
   "id": "621bbd53",
   "metadata": {},
   "outputs": [],
   "source": [
    "df_mp_producers_full"
   ]
  },
  {
   "cell_type": "code",
   "execution_count": null,
   "id": "2c805a97",
   "metadata": {},
   "outputs": [],
   "source": [
    "df_mp_producers = df_mp_producers_full[['name', 'inn', 'ogrn']]"
   ]
  },
  {
   "cell_type": "code",
   "execution_count": null,
   "id": "16b265e4",
   "metadata": {},
   "outputs": [],
   "source": [
    "df_mp_producers"
   ]
  },
  {
   "cell_type": "code",
   "execution_count": null,
   "id": "c43856ed",
   "metadata": {},
   "outputs": [],
   "source": [
    "df_1round = pd.concat([df_im, df_mp_producers])"
   ]
  },
  {
   "cell_type": "code",
   "execution_count": null,
   "id": "1da21637",
   "metadata": {},
   "outputs": [],
   "source": [
    "df_1round"
   ]
  },
  {
   "cell_type": "code",
   "execution_count": null,
   "id": "d490e849",
   "metadata": {},
   "outputs": [],
   "source": [
    "df_mp_farma_full = pd.read_csv('/Users/mariabukhtiyarova/Documents/hackathon_june/Minpromtorg_реестр_производителей_лекарств.csv', sep = ';').rename(columns={'Наименование производителя лекарственных средств': 'name', 'Адрес места осуществления деятельности по производству лекарственных средств': 'production_address'})"
   ]
  },
  {
   "cell_type": "code",
   "execution_count": null,
   "id": "af3c41cb",
   "metadata": {},
   "outputs": [],
   "source": [
    "df_mp_farma_full_moscow = df_mp_farma_full[df_mp_farma_full['production_address'].str.contains('Моск')]"
   ]
  },
  {
   "cell_type": "code",
   "execution_count": null,
   "id": "d3df55e4",
   "metadata": {},
   "outputs": [],
   "source": [
    "df_mp_farma = df_mp_farma_full_moscow[['name']]"
   ]
  },
  {
   "cell_type": "code",
   "execution_count": null,
   "id": "6abe2fe2",
   "metadata": {},
   "outputs": [],
   "source": [
    "df_mp_farma"
   ]
  },
  {
   "cell_type": "code",
   "execution_count": null,
   "id": "e6326b66",
   "metadata": {},
   "outputs": [],
   "source": [
    "df_2round = pd.concat([df_1round, df_mp_farma])"
   ]
  },
  {
   "cell_type": "code",
   "execution_count": null,
   "id": "99f31397",
   "metadata": {},
   "outputs": [],
   "source": [
    "df_2round"
   ]
  },
  {
   "cell_type": "code",
   "execution_count": null,
   "id": "627368f7",
   "metadata": {},
   "outputs": [],
   "source": [
    "df_given_full = pd.read_excel('/Users/mariabukhtiyarova/Documents/hackathon_june/Данные_от_организаторов_ИНН_name_website.xlsx', converters= {'ИНН': str}).rename(columns = {'ИНН': 'inn', 'Наименование организации': 'name', 'Сайт': 'website'})"
   ]
  },
  {
   "cell_type": "code",
   "execution_count": null,
   "id": "32ca779d",
   "metadata": {},
   "outputs": [],
   "source": [
    "df_given = df_given_full[['name', 'inn']]"
   ]
  },
  {
   "cell_type": "code",
   "execution_count": null,
   "id": "bbaca144",
   "metadata": {},
   "outputs": [],
   "source": [
    "df_given_full"
   ]
  },
  {
   "cell_type": "code",
   "execution_count": null,
   "id": "079da1e6",
   "metadata": {},
   "outputs": [],
   "source": [
    "df_given"
   ]
  },
  {
   "cell_type": "code",
   "execution_count": null,
   "id": "361af285",
   "metadata": {},
   "outputs": [],
   "source": [
    "df_all = pd.concat([df_2round, df_given])"
   ]
  },
  {
   "cell_type": "code",
   "execution_count": null,
   "id": "68e2feb3",
   "metadata": {},
   "outputs": [],
   "source": [
    "df_all"
   ]
  },
  {
   "cell_type": "code",
   "execution_count": null,
   "id": "0d608932",
   "metadata": {},
   "outputs": [],
   "source": [
    "df_all['name'] = df_all['name'].str.lower()"
   ]
  },
  {
   "cell_type": "code",
   "execution_count": null,
   "id": "b92366d4",
   "metadata": {},
   "outputs": [],
   "source": [
    "df_all['name'] = df_all['name'].str.replace('общество с ограниченной ответственностью', 'ооо')\n",
    "#df.val.str.replace('HF -', 'Hi')"
   ]
  },
  {
   "cell_type": "code",
   "execution_count": null,
   "id": "4b19e936",
   "metadata": {},
   "outputs": [],
   "source": [
    "df_all.head(30)"
   ]
  },
  {
   "cell_type": "code",
   "execution_count": null,
   "id": "6704b8ee",
   "metadata": {},
   "outputs": [],
   "source": [
    "df_all['name'] = df_all['name'].str.replace('открытое акционерное общество', 'оао')"
   ]
  },
  {
   "cell_type": "code",
   "execution_count": null,
   "id": "584bcde8",
   "metadata": {},
   "outputs": [],
   "source": [
    "df_all['name'] = df_all['name'].str.replace('акционерное общество', 'ао')"
   ]
  },
  {
   "cell_type": "code",
   "execution_count": null,
   "id": "5872a622",
   "metadata": {},
   "outputs": [],
   "source": [
    "df_all['name'] = df_all['name'].str.replace('\"', '')"
   ]
  },
  {
   "cell_type": "code",
   "execution_count": null,
   "id": "6e6b20eb",
   "metadata": {},
   "outputs": [],
   "source": [
    "df_all"
   ]
  },
  {
   "cell_type": "code",
   "execution_count": null,
   "id": "1bdea74f",
   "metadata": {},
   "outputs": [],
   "source": [
    "df_final = df_all.drop_duplicates()"
   ]
  },
  {
   "cell_type": "code",
   "execution_count": null,
   "id": "2e6525bf",
   "metadata": {},
   "outputs": [],
   "source": [
    "df_final.reset_index(drop=True).to_csv('cleaned_company_inn_list.csv')"
   ]
  },
  {
   "cell_type": "code",
   "execution_count": null,
   "id": "b90bf877",
   "metadata": {},
   "outputs": [],
   "source": [
    "df_all['inn'] = df_all['inn'].astype(str)"
   ]
  },
  {
   "cell_type": "code",
   "execution_count": null,
   "id": "bd3e2ce1",
   "metadata": {},
   "outputs": [],
   "source": [
    "df_all['len_inn'] = df_all['inn'].apply(len)"
   ]
  },
  {
   "cell_type": "code",
   "execution_count": null,
   "id": "7fc5fee3",
   "metadata": {},
   "outputs": [],
   "source": [
    "df_all.loc[df_all['len_inn'] == 9]"
   ]
  },
  {
   "cell_type": "code",
   "execution_count": null,
   "id": "3f70946c",
   "metadata": {},
   "outputs": [],
   "source": [
    "df_all"
   ]
  },
  {
   "cell_type": "code",
   "execution_count": null,
   "id": "2861894f",
   "metadata": {},
   "outputs": [],
   "source": [
    "df_products = pd.read_csv('/Users/mariabukhtiyarova/Documents/hackathon_june/Minpromtorg_products_made_in_Russia.csv').rename(columns = {'INN': 'inn', 'Nameoforg': 'name', 'OGRN': 'ogrn'})"
   ]
  },
  {
   "cell_type": "code",
   "execution_count": null,
   "id": "12157d10",
   "metadata": {},
   "outputs": [],
   "source": [
    "df_products.info()"
   ]
  },
  {
   "cell_type": "code",
   "execution_count": null,
   "id": "579edb66",
   "metadata": {},
   "outputs": [],
   "source": [
    "df_products['inn_len'] = df_products['inn'].apply(len)"
   ]
  },
  {
   "cell_type": "code",
   "execution_count": null,
   "id": "07eb6f1f",
   "metadata": {},
   "outputs": [],
   "source": [
    "df_products['inn'].apply(len).unique()"
   ]
  },
  {
   "cell_type": "code",
   "execution_count": null,
   "id": "7451c8c5",
   "metadata": {},
   "outputs": [],
   "source": [
    "df_products['ogrn'] = df_products['ogrn'].astype(str)"
   ]
  },
  {
   "cell_type": "code",
   "execution_count": null,
   "id": "9eb9cc2d",
   "metadata": {},
   "outputs": [],
   "source": [
    "df_products['ogrn_len'] = df_products['ogrn'].apply(len)"
   ]
  },
  {
   "cell_type": "code",
   "execution_count": null,
   "id": "4ccb1930",
   "metadata": {},
   "outputs": [],
   "source": [
    "df_products['clean_name'] = df_products['name'].str.lower()"
   ]
  },
  {
   "cell_type": "code",
   "execution_count": null,
   "id": "63550bfe",
   "metadata": {},
   "outputs": [],
   "source": [
    "df_products"
   ]
  },
  {
   "cell_type": "code",
   "execution_count": null,
   "id": "9859550c",
   "metadata": {},
   "outputs": [],
   "source": [
    "df_products.merge(df_final[['inn']], on='inn', how = 'inner')"
   ]
  },
  {
   "cell_type": "code",
   "execution_count": null,
   "id": "72731667",
   "metadata": {},
   "outputs": [],
   "source": [
    "df_products.loc[df_products['inn'].isin(df_final['inn'])]"
   ]
  },
  {
   "cell_type": "code",
   "execution_count": null,
   "id": "a208a8ee",
   "metadata": {},
   "outputs": [],
   "source": [
    "df_products = pd.read_csv('/Users/mariabukhtiyarova/Documents/hackathon_june/Minpromtorg_products_made_in_Russia.csv').rename(columns = {'INN': 'inn', 'Nameoforg': 'name', 'OGRN': 'ogrn'})"
   ]
  },
  {
   "cell_type": "code",
   "execution_count": null,
   "id": "838b8e2d",
   "metadata": {},
   "outputs": [],
   "source": [
    "df_given.loc[df_given['len'] < 10]"
   ]
  },
  {
   "cell_type": "code",
   "execution_count": null,
   "id": "b336d856",
   "metadata": {},
   "outputs": [],
   "source": [
    "df_mp_producers['ogrn_len'] = df_mp_producers['ogrn'].apply(len)"
   ]
  },
  {
   "cell_type": "code",
   "execution_count": null,
   "id": "dbbb1ebd",
   "metadata": {},
   "outputs": [],
   "source": [
    "df_mp_producers.loc[df_mp_producers['ogrn_len'] == 11]"
   ]
  },
  {
   "cell_type": "code",
   "execution_count": null,
   "id": "8ca3301f",
   "metadata": {},
   "outputs": [],
   "source": [
    "df_mp_producer_test = pd.read_csv('/Users/mariabukhtiyarova/Documents/hackathon_june/Minpromtorg_Russian_producers — копия.csv', converters={'OGRN': str})"
   ]
  },
  {
   "cell_type": "code",
   "execution_count": null,
   "id": "0ee36d5f",
   "metadata": {},
   "outputs": [],
   "source": [
    "df_mp_producer_test['OGRN'].apply(len).unique()"
   ]
  },
  {
   "cell_type": "code",
   "execution_count": null,
   "id": "d620d80b",
   "metadata": {},
   "outputs": [],
   "source": [
    "df_given_try = pd.read_excel('/Users/mariabukhtiyarova/Documents/hackathon_june/Данные_от_организаторов_ИНН_name_website — копия.xlsx', converters={'ИНН': str}).rename(columns = {'ИНН': 'inn', 'Наименование организации': 'name', 'Сайт': 'website'})"
   ]
  },
  {
   "cell_type": "code",
   "execution_count": null,
   "id": "fce8f43d",
   "metadata": {},
   "outputs": [],
   "source": [
    "df_given_try['inn'].apply(len).unique()"
   ]
  },
  {
   "cell_type": "code",
   "execution_count": null,
   "id": "7ee56e0f",
   "metadata": {},
   "outputs": [],
   "source": [
    "df_after_egrul = pd.read_csv('/Users/mariabukhtiyarova/Documents/hackathon_june/cleaned_companies.csv', converters={'inn': str})"
   ]
  },
  {
   "cell_type": "code",
   "execution_count": null,
   "id": "070e7449",
   "metadata": {},
   "outputs": [],
   "source": [
    "df_after_egrul"
   ]
  },
  {
   "cell_type": "code",
   "execution_count": null,
   "id": "fc7920e1",
   "metadata": {},
   "outputs": [],
   "source": [
    "df_im_full"
   ]
  },
  {
   "cell_type": "code",
   "execution_count": null,
   "id": "88b2dd5b",
   "metadata": {},
   "outputs": [],
   "source": [
    "df_1merge = pd.merge(df_after_egrul, df_im_full[['inn', 'coords', 'additionalInfo_industryHasMoscowSupport', 'webSite']], on = 'inn', how = 'left')"
   ]
  },
  {
   "cell_type": "code",
   "execution_count": null,
   "id": "82011aa7",
   "metadata": {},
   "outputs": [],
   "source": [
    "df_1merge"
   ]
  },
  {
   "cell_type": "code",
   "execution_count": null,
   "id": "115052ae",
   "metadata": {},
   "outputs": [],
   "source": [
    "df_given_full['inn'].value_counts().sort_values()"
   ]
  },
  {
   "cell_type": "code",
   "execution_count": null,
   "id": "85dc96f2",
   "metadata": {},
   "outputs": [],
   "source": [
    "df_merged = df_1merge.merge(df_given_full[['inn', 'website']], on = 'inn', how = 'left').drop_duplicates(subset = ['inn'])"
   ]
  },
  {
   "cell_type": "code",
   "execution_count": null,
   "id": "4de159ab",
   "metadata": {},
   "outputs": [],
   "source": [
    "df_merged['website'] = df_merged['website'].replace('Сведения отсутствуют', np.nan)"
   ]
  },
  {
   "cell_type": "code",
   "execution_count": null,
   "id": "c09d4675",
   "metadata": {},
   "outputs": [],
   "source": [
    "df_merged[['webSite', 'website']] = df_merged[['webSite', 'website']].ffill(axis=1).bfill(axis=1)"
   ]
  },
  {
   "cell_type": "code",
   "execution_count": null,
   "id": "de9144ce",
   "metadata": {
    "scrolled": false
   },
   "outputs": [],
   "source": [
    "df_merged = df_merged.drop(columns = 'webSite')"
   ]
  },
  {
   "cell_type": "code",
   "execution_count": null,
   "id": "afdef942",
   "metadata": {},
   "outputs": [],
   "source": [
    "df_moscow_products_raw = df_merged[['inn']].merge(df_products, on = 'inn', how = 'left').dropna(subset=['Productname'])"
   ]
  },
  {
   "cell_type": "code",
   "execution_count": null,
   "id": "3a55aa62",
   "metadata": {},
   "outputs": [],
   "source": [
    "df_merged.to_csv('companies_with_websites.csv')"
   ]
  },
  {
   "cell_type": "code",
   "execution_count": null,
   "id": "23eea494",
   "metadata": {},
   "outputs": [],
   "source": [
    "df_products.to_csv('products_list_preprocessed.csv')"
   ]
  },
  {
   "cell_type": "code",
   "execution_count": null,
   "id": "423606d1",
   "metadata": {},
   "outputs": [],
   "source": [
    "df_moscow_products_raw.to_csv('moscow_products_raw.csv')"
   ]
  },
  {
   "cell_type": "code",
   "execution_count": null,
   "id": "495a74ac",
   "metadata": {},
   "outputs": [],
   "source": [
    "df_merged['okved_name']"
   ]
  },
  {
   "cell_type": "code",
   "execution_count": null,
   "id": "1e2207d5",
   "metadata": {},
   "outputs": [],
   "source": [
    "df_merged['latitude'] = df_merged['coords'].fillna('[0,0]').apply(lambda x: x.split(',')[0][1:])"
   ]
  },
  {
   "cell_type": "code",
   "execution_count": null,
   "id": "f773c95a",
   "metadata": {},
   "outputs": [],
   "source": [
    "df_merged"
   ]
  },
  {
   "cell_type": "code",
   "execution_count": null,
   "id": "72236bd7",
   "metadata": {},
   "outputs": [],
   "source": [
    "df_merged['longitude'] = df_merged['coords'].fillna('[0,0]').apply(lambda x: x.split(',')[1][0:-1])"
   ]
  },
  {
   "cell_type": "code",
   "execution_count": null,
   "id": "7c084794",
   "metadata": {},
   "outputs": [],
   "source": [
    "df_merged.to_csv('full_companies_info.csv')"
   ]
  },
  {
   "cell_type": "code",
   "execution_count": null,
   "id": "bc370042",
   "metadata": {},
   "outputs": [],
   "source": [
    "df_merged.info()"
   ]
  },
  {
   "cell_type": "code",
   "execution_count": null,
   "id": "b04966b1",
   "metadata": {},
   "outputs": [],
   "source": [
    "df_moscow_products_raw.groupby('name').agg({'inn': 'count'})"
   ]
  },
  {
   "cell_type": "code",
   "execution_count": null,
   "id": "d47ca82e",
   "metadata": {},
   "outputs": [],
   "source": []
  }
 ],
 "metadata": {
  "kernelspec": {
   "display_name": "Python 3 (ipykernel)",
   "language": "python",
   "name": "python3"
  },
  "language_info": {
   "codemirror_mode": {
    "name": "ipython",
    "version": 3
   },
   "file_extension": ".py",
   "mimetype": "text/x-python",
   "name": "python",
   "nbconvert_exporter": "python",
   "pygments_lexer": "ipython3",
   "version": "3.9.13"
  }
 },
 "nbformat": 4,
 "nbformat_minor": 5
}
