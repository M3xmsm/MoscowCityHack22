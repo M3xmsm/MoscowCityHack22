{
 "cells": [
  {
   "cell_type": "code",
   "execution_count": null,
   "id": "e4a16470",
   "metadata": {},
   "outputs": [],
   "source": [
    "import pandas as pd\n",
    "import numpy as np"
   ]
  },
  {
   "cell_type": "code",
   "execution_count": null,
   "id": "9ab37458",
   "metadata": {},
   "outputs": [],
   "source": [
    "df = pd.read_csv('/Users/mariabukhtiyarova/Documents/hackathon_june/full_companies_info.csv', converters={'inn': str, 'ogrn': str}).drop(columns = 'Unnamed: 0')"
   ]
  },
  {
   "cell_type": "code",
   "execution_count": null,
   "id": "672be35b",
   "metadata": {},
   "outputs": [],
   "source": [
    "df_products = pd.read_csv('/Users/mariabukhtiyarova/Documents/hackathon_june/num_of_products.csv', converters={'inn': str}).drop(columns = 'Unnamed: 0')"
   ]
  },
  {
   "cell_type": "code",
   "execution_count": null,
   "id": "9487fdaa",
   "metadata": {},
   "outputs": [],
   "source": [
    "df = df.merge(df_products, on='inn', how = 'left')"
   ]
  },
  {
   "cell_type": "code",
   "execution_count": null,
   "id": "a373c51b",
   "metadata": {},
   "outputs": [],
   "source": [
    "df['has_products'] = df['num_products'].notna()"
   ]
  },
  {
   "cell_type": "code",
   "execution_count": null,
   "id": "0806e18c",
   "metadata": {},
   "outputs": [],
   "source": [
    "df = df.merge(df_short1[['inn', 'count_notna']], on = 'inn', how = 'left')"
   ]
  },
  {
   "cell_type": "code",
   "execution_count": null,
   "id": "0ec09885",
   "metadata": {},
   "outputs": [],
   "source": [
    "df = df.merge(df_short2[['inn', 'missing_columns']], on = 'inn', how = 'left')"
   ]
  },
  {
   "cell_type": "code",
   "execution_count": null,
   "id": "6ceea303",
   "metadata": {},
   "outputs": [],
   "source": [
    "df = df.merge(df_num_prod, on = 'okved_name', how = 'left')"
   ]
  },
  {
   "cell_type": "code",
   "execution_count": null,
   "id": "896b7a6f",
   "metadata": {},
   "outputs": [],
   "source": [
    "df_analytics = df[['inn', 'num_products', 'has_products', 'count_notna', 'missing_columns', 'similar_producers_num']]"
   ]
  },
  {
   "cell_type": "code",
   "execution_count": null,
   "id": "2c048910",
   "metadata": {},
   "outputs": [],
   "source": [
    "df_analytics = df_analytics.rename(columns = {'missing_columns': 'missing_data', 'count_notna': 'available_data_count'})"
   ]
  },
  {
   "cell_type": "code",
   "execution_count": null,
   "id": "24e86735",
   "metadata": {},
   "outputs": [],
   "source": [
    "df_analytics.to_csv('basic_analytics.csv')"
   ]
  },
  {
   "cell_type": "code",
   "execution_count": null,
   "id": "243441eb",
   "metadata": {},
   "outputs": [],
   "source": [
    "df_analytics.info()"
   ]
  },
  {
   "cell_type": "code",
   "execution_count": null,
   "id": "82a57b03",
   "metadata": {},
   "outputs": [],
   "source": [
    "df_analytics"
   ]
  },
  {
   "cell_type": "code",
   "execution_count": null,
   "id": "39f2a9d6",
   "metadata": {},
   "outputs": [],
   "source": [
    "df_short1 = df[['ogrn', 'inn', 'full_name', 'okved_name', 'email', 'street', 'website', 'has_products']]"
   ]
  },
  {
   "cell_type": "code",
   "execution_count": null,
   "id": "5c02eb7e",
   "metadata": {},
   "outputs": [],
   "source": [
    "df_short1"
   ]
  },
  {
   "cell_type": "code",
   "execution_count": null,
   "id": "c2c425b0",
   "metadata": {},
   "outputs": [],
   "source": [
    "df_short2 = df[['ogrn', 'inn', 'full_name', 'okved_name', 'email', 'street', 'website', 'num_products']].rename(columns={'num_products': 'has_products'})"
   ]
  },
  {
   "cell_type": "code",
   "execution_count": null,
   "id": "71548783",
   "metadata": {},
   "outputs": [],
   "source": [
    "df_short1['count_notna'] = df_short1.count(axis=1).to_frame('count_notna')['count_notna']"
   ]
  },
  {
   "cell_type": "code",
   "execution_count": null,
   "id": "1ee410c0",
   "metadata": {},
   "outputs": [],
   "source": [
    "df_short1"
   ]
  },
  {
   "cell_type": "code",
   "execution_count": null,
   "id": "5ce604e4",
   "metadata": {},
   "outputs": [],
   "source": [
    "def get_nan_cols(row):\n",
    "    check = np.asarray(['ogrn', 'inn', 'full_name', 'okved_name', 'email', 'street', 'website', 'has_products'])    \n",
    "    mask = row.isna().to_numpy()\n",
    "    res = check[mask]\n",
    "    return res"
   ]
  },
  {
   "cell_type": "code",
   "execution_count": null,
   "id": "ebf4fe52",
   "metadata": {},
   "outputs": [],
   "source": [
    "df_short2['missing_columns'] = df_short2.apply(get_nan_cols, axis=1)"
   ]
  },
  {
   "cell_type": "code",
   "execution_count": null,
   "id": "f00a55af",
   "metadata": {},
   "outputs": [],
   "source": [
    "df_short2"
   ]
  },
  {
   "cell_type": "code",
   "execution_count": null,
   "id": "e0135976",
   "metadata": {},
   "outputs": [],
   "source": [
    "mask = df_short2.iloc[0].isna().to_numpy()"
   ]
  },
  {
   "cell_type": "code",
   "execution_count": null,
   "id": "c500bcc4",
   "metadata": {},
   "outputs": [],
   "source": [
    "df['okved_name'].nunique()"
   ]
  },
  {
   "cell_type": "code",
   "execution_count": null,
   "id": "88604908",
   "metadata": {},
   "outputs": [],
   "source": [
    "df['okved_0'].nunique()"
   ]
  },
  {
   "cell_type": "code",
   "execution_count": null,
   "id": "4c65dc64",
   "metadata": {},
   "outputs": [],
   "source": [
    "df_num_prod = df.groupby('okved_name').agg({'inn': 'count'}).reset_index().rename(columns={'inn': 'similar_producers_num'})"
   ]
  },
  {
   "cell_type": "code",
   "execution_count": null,
   "id": "c29090b4",
   "metadata": {},
   "outputs": [],
   "source": [
    "df_num_prod"
   ]
  },
  {
   "cell_type": "code",
   "execution_count": null,
   "id": "c917b443",
   "metadata": {},
   "outputs": [],
   "source": []
  }
 ],
 "metadata": {
  "kernelspec": {
   "display_name": "Python 3 (ipykernel)",
   "language": "python",
   "name": "python3"
  },
  "language_info": {
   "codemirror_mode": {
    "name": "ipython",
    "version": 3
   },
   "file_extension": ".py",
   "mimetype": "text/x-python",
   "name": "python",
   "nbconvert_exporter": "python",
   "pygments_lexer": "ipython3",
   "version": "3.9.13"
  }
 },
 "nbformat": 4,
 "nbformat_minor": 5
}
