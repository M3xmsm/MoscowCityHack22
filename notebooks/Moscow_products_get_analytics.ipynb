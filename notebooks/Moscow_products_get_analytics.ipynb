{
 "cells": [
  {
   "cell_type": "code",
   "execution_count": null,
   "id": "924f3cde",
   "metadata": {},
   "outputs": [],
   "source": [
    "import pandas as pd"
   ]
  },
  {
   "cell_type": "code",
   "execution_count": null,
   "id": "46afe73f",
   "metadata": {},
   "outputs": [],
   "source": [
    "df_full = pd.read_csv('/Users/mariabukhtiyarova/Documents/hackathon_june/moscow_products_good.csv', converters={'inn': str, 'ogrn': str}).drop(columns = 'Unnamed: 0')"
   ]
  },
  {
   "cell_type": "code",
   "execution_count": null,
   "id": "eb06e5fa",
   "metadata": {},
   "outputs": [],
   "source": [
    "df_full.info()"
   ]
  },
  {
   "cell_type": "code",
   "execution_count": null,
   "id": "1cf9c1eb",
   "metadata": {},
   "outputs": [],
   "source": [
    "df_num_products = df_full.groupby('inn').agg({'Productname': 'count'}).reset_index().rename(columns = {'Productname': 'num_products'}).sort_values(by='num_products', ascending = False)"
   ]
  },
  {
   "cell_type": "code",
   "execution_count": null,
   "id": "5a6ff0c3",
   "metadata": {},
   "outputs": [],
   "source": [
    "df_num_products.to_csv('num_of_products.csv')"
   ]
  },
  {
   "cell_type": "code",
   "execution_count": null,
   "id": "62ff2464",
   "metadata": {},
   "outputs": [],
   "source": []
  }
 ],
 "metadata": {
  "kernelspec": {
   "display_name": "Python 3 (ipykernel)",
   "language": "python",
   "name": "python3"
  },
  "language_info": {
   "codemirror_mode": {
    "name": "ipython",
    "version": 3
   },
   "file_extension": ".py",
   "mimetype": "text/x-python",
   "name": "python",
   "nbconvert_exporter": "python",
   "pygments_lexer": "ipython3",
   "version": "3.9.13"
  }
 },
 "nbformat": 4,
 "nbformat_minor": 5
}
