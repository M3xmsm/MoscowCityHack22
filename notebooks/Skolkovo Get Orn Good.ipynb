{
 "cells": [
  {
   "cell_type": "code",
   "execution_count": null,
   "id": "370017de",
   "metadata": {},
   "outputs": [],
   "source": [
    "import pandas as pd\n",
    "import json"
   ]
  },
  {
   "cell_type": "code",
   "execution_count": null,
   "id": "add049e6",
   "metadata": {},
   "outputs": [],
   "source": [
    "def json_reader(url):\n",
    "    f = open(url, mode='r')\n",
    "    file = f.read()\n",
    "    data = json.loads(file)\n",
    "    return data"
   ]
  },
  {
   "cell_type": "code",
   "execution_count": null,
   "id": "7d36764c",
   "metadata": {},
   "outputs": [],
   "source": [
    "companies = data['companies']"
   ]
  },
  {
   "cell_type": "code",
   "execution_count": null,
   "id": "33eed5e7",
   "metadata": {},
   "outputs": [],
   "source": [
    "def get_orn(df):\n",
    "    orns = []\n",
    "    for comp in companies:\n",
    "        orn1 = comp['orn']\n",
    "        orns.append(orn1)\n",
    "        for sim_comp in comp['similar_companies']:\n",
    "            orn2 = sim_comp['orn']\n",
    "            orns.append(orn2)\n",
    "    return orns"
   ]
  },
  {
   "cell_type": "code",
   "execution_count": null,
   "id": "fec19d6e",
   "metadata": {},
   "outputs": [],
   "source": [
    "data = json_reader('/Users/mariabukhtiyarova/Documents/hackathon_june/skolkovo_orn_source.txt', )"
   ]
  },
  {
   "cell_type": "code",
   "execution_count": null,
   "id": "d2cfda22",
   "metadata": {},
   "outputs": [],
   "source": [
    "data"
   ]
  },
  {
   "cell_type": "code",
   "execution_count": null,
   "id": "bc8e30d8",
   "metadata": {},
   "outputs": [],
   "source": [
    "orn_list = list(set(get_orn(data)))"
   ]
  },
  {
   "cell_type": "code",
   "execution_count": null,
   "id": "1c360974",
   "metadata": {},
   "outputs": [],
   "source": [
    "len(orn_list)"
   ]
  },
  {
   "cell_type": "code",
   "execution_count": null,
   "id": "3678dbe5",
   "metadata": {},
   "outputs": [],
   "source": [
    "df_orn = pd.DataFrame(orn_list).rename(columns={0: 'id'}).sort_values(by = 'id')"
   ]
  },
  {
   "cell_type": "code",
   "execution_count": null,
   "id": "5c6d07ff",
   "metadata": {},
   "outputs": [],
   "source": [
    "df_orn['id'] = df_orn['id'].astype(str)"
   ]
  },
  {
   "cell_type": "code",
   "execution_count": null,
   "id": "60c7e0c0",
   "metadata": {},
   "outputs": [],
   "source": [
    "df_orn['id'].values.tolist()"
   ]
  },
  {
   "cell_type": "code",
   "execution_count": null,
   "id": "6e18679f",
   "metadata": {},
   "outputs": [],
   "source": [
    "df_orn.to_csv('skolkovo_prom_orn.csv')"
   ]
  }
 ],
 "metadata": {
  "kernelspec": {
   "display_name": "Python 3 (ipykernel)",
   "language": "python",
   "name": "python3"
  },
  "language_info": {
   "codemirror_mode": {
    "name": "ipython",
    "version": 3
   },
   "file_extension": ".py",
   "mimetype": "text/x-python",
   "name": "python",
   "nbconvert_exporter": "python",
   "pygments_lexer": "ipython3",
   "version": "3.9.13"
  }
 },
 "nbformat": 4,
 "nbformat_minor": 5
}
