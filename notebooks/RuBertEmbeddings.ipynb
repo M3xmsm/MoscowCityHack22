{
 "cells": [
  {
   "cell_type": "code",
   "execution_count": 1,
   "id": "d3eb9d3e",
   "metadata": {},
   "outputs": [],
   "source": [
    "import torch\n",
    "from transformers import AutoTokenizer, AutoModel"
   ]
  },
  {
   "cell_type": "code",
   "execution_count": 2,
   "id": "d499c4b0",
   "metadata": {},
   "outputs": [],
   "source": [
    "# tokenizer = AutoTokenizer.from_pretrained(\"cointegrated/rubert-tiny2\")\n",
    "# model = AutoModel.from_pretrained(\"cointegrated/rubert-tiny2\")"
   ]
  },
  {
   "cell_type": "code",
   "execution_count": 3,
   "id": "e076c01d",
   "metadata": {},
   "outputs": [],
   "source": [
    "tokenizer = AutoTokenizer.from_pretrained(\"DeepPavlov/rubert-base-cased-sentence\")\n",
    "model = AutoModel.from_pretrained(\"DeepPavlov/rubert-base-cased-sentence\")"
   ]
  },
  {
   "cell_type": "code",
   "execution_count": 4,
   "id": "9e3ef796",
   "metadata": {},
   "outputs": [],
   "source": [
    "# tokenizer = AutoTokenizer.from_pretrained(\"cointegrated/rubert-tiny2\")\n",
    "# model = AutoModelForPreTraining.from_pretrained(\"cointegrated/rubert-tiny2\")"
   ]
  },
  {
   "cell_type": "code",
   "execution_count": 8,
   "id": "15d1b2a6",
   "metadata": {},
   "outputs": [],
   "source": [
    "def embed_bert_cls(text, model, tokenizer):\n",
    "    t = tokenizer(text, padding=True, truncation=True, max_length=2048, return_tensors='pt')\n",
    "    with torch.no_grad():\n",
    "        model_output = model(**{k: v.to(model.device) for k, v in t.items()})\n",
    "    embeddings = model_output.last_hidden_state[:, 0, :]\n",
    "    embeddings = torch.nn.functional.normalize(embeddings)\n",
    "    return embeddings[0].cpu().numpy()\n"
   ]
  },
  {
   "cell_type": "code",
   "execution_count": 26,
   "id": "d5ca0464",
   "metadata": {},
   "outputs": [],
   "source": [
    "text1 = 'Разработчик и производитель изделий промышленной электроники - бесконтактных выключателей и бесконтактных датчиков положения для систем автоматики.  Номенклатура производимой продукции насчитывает примерно 2500 типоразмеров.   Более 10 000 больших и малых предприятий различных отраслей заказывают изделия «СЕНСОР». Качество датчиков обеспечивается применением высокотехнологичного оборудования в процессе разработки, испытаний и изготовления изделий.  Полный цикл производства - от проектирования до выпуска серийной продукции. Профессионализм сотрудников обеспечивают высокий уровень качества выпускаемой продукции. Это гарантирует её бесперебойность и долговечность даже при самых экстремальных условиях эксплуатации.   Датчики марки «СЕНСОР» на протяжении многих лет успешно заменяют продукцию ведущих иностранных производителей. Техническая служба и опытная лаборатория компании осуществляют разработку новых изделий, улучшают характеристики существующих, а также разрабатывают датчики по индивидуальным требованиям заказчиков. Система менеджмента качества предприятия сертифицирована на соответствие требованиям ГОСТ Р ИСО 9001-2015 (ISO 9001:2015)'"
   ]
  },
  {
   "cell_type": "code",
   "execution_count": 27,
   "id": "0bfb0088",
   "metadata": {},
   "outputs": [],
   "source": [
    "text2 = 'Компания BIOCAD основана в 2001 году. Это одна из крупнейших международных инновационных биотехнологических компаний в России, объединившая научно-исследовательские центры мирового уровня, современное фармацевтическое и биотехнологическое производство, доклинические и клинические исследования, соответствующие международным стандартам. BIOCAD – компания полного цикла создания лекарственных препаратов от поиска молекулы до массового производства и маркетинговой поддержки. Компания фокусируется на препаратах для терапии онкологических, аутоиммунных и инфекционных заболеваний, также ведет разработки в области терапии других социально значимых заболеваний. В продуктовый портфель входит более 60 лекарственных препаратов, более 20 из которых – биологические. Еще около 25 продуктов находятся на разных стадиях разработки.'"
   ]
  },
  {
   "cell_type": "code",
   "execution_count": 28,
   "id": "85c3bb6f",
   "metadata": {},
   "outputs": [
    {
     "data": {
      "text/plain": [
       "(1154, 824)"
      ]
     },
     "execution_count": 28,
     "metadata": {},
     "output_type": "execute_result"
    }
   ],
   "source": [
    "len(text1), len(text2)"
   ]
  },
  {
   "cell_type": "code",
   "execution_count": 29,
   "id": "87118395",
   "metadata": {},
   "outputs": [],
   "source": [
    "vector1 = embed_bert_cls(text1, model, tokenizer)\n",
    "vector = embed_bert_cls(text2, model, tokenizer)"
   ]
  },
  {
   "cell_type": "code",
   "execution_count": 30,
   "id": "b638ce5d",
   "metadata": {},
   "outputs": [],
   "source": [
    "from sklearn.metrics.pairwise import cosine_similarity\n",
    "from scipy import spatial"
   ]
  },
  {
   "cell_type": "code",
   "execution_count": null,
   "id": "6fd7b869",
   "metadata": {},
   "outputs": [],
   "source": []
  },
  {
   "cell_type": "code",
   "execution_count": 38,
   "id": "f2ec3ac7",
   "metadata": {},
   "outputs": [],
   "source": [
    "search1 = embed_bert_cls('Датчик', model, tokenizer)\n",
    "search2 = embed_bert_cls('Препарат', model, tokenizer)"
   ]
  },
  {
   "cell_type": "code",
   "execution_count": 39,
   "id": "ed8bbc35",
   "metadata": {},
   "outputs": [
    {
     "data": {
      "text/plain": [
       "0.5772278308868408"
      ]
     },
     "execution_count": 39,
     "metadata": {},
     "output_type": "execute_result"
    }
   ],
   "source": [
    "spatial.distance.cosine(vector1, search1)"
   ]
  },
  {
   "cell_type": "code",
   "execution_count": 40,
   "id": "e2120c65",
   "metadata": {},
   "outputs": [
    {
     "data": {
      "text/plain": [
       "0.5919860601425171"
      ]
     },
     "execution_count": 40,
     "metadata": {},
     "output_type": "execute_result"
    }
   ],
   "source": [
    "spatial.distance.cosine(vector1, search2)"
   ]
  },
  {
   "cell_type": "code",
   "execution_count": 41,
   "id": "d3baded4",
   "metadata": {},
   "outputs": [
    {
     "data": {
      "text/plain": [
       "0.6428490281105042"
      ]
     },
     "execution_count": 41,
     "metadata": {},
     "output_type": "execute_result"
    }
   ],
   "source": [
    "spatial.distance.cosine(vector2, search1)"
   ]
  },
  {
   "cell_type": "code",
   "execution_count": 42,
   "id": "e8d32a4c",
   "metadata": {},
   "outputs": [
    {
     "data": {
      "text/plain": [
       "0.5095763802528381"
      ]
     },
     "execution_count": 42,
     "metadata": {},
     "output_type": "execute_result"
    }
   ],
   "source": [
    "spatial.distance.cosine(vector2, search2)"
   ]
  },
  {
   "cell_type": "code",
   "execution_count": null,
   "id": "5eebcaf7",
   "metadata": {},
   "outputs": [],
   "source": []
  },
  {
   "cell_type": "code",
   "execution_count": 32,
   "id": "38e70840",
   "metadata": {},
   "outputs": [
    {
     "data": {
      "text/plain": [
       "0.11944389343261719"
      ]
     },
     "execution_count": 32,
     "metadata": {},
     "output_type": "execute_result"
    }
   ],
   "source": [
    "result"
   ]
  },
  {
   "cell_type": "code",
   "execution_count": 20,
   "id": "b3793bd3",
   "metadata": {},
   "outputs": [
    {
     "data": {
      "text/plain": [
       "array([[ 1.,  1., -1., ..., -1., -1., -1.],\n",
       "       [ 1.,  1., -1., ..., -1., -1., -1.],\n",
       "       [-1., -1.,  1., ...,  1.,  1.,  1.],\n",
       "       ...,\n",
       "       [-1., -1.,  1., ...,  1.,  1.,  1.],\n",
       "       [-1., -1.,  1., ...,  1.,  1.,  1.],\n",
       "       [-1., -1.,  1., ...,  1.,  1.,  1.]], dtype=float32)"
      ]
     },
     "execution_count": 20,
     "metadata": {},
     "output_type": "execute_result"
    }
   ],
   "source": [
    "# cosine_similarity(vector.reshape(-1, 1), vector.reshape(-1, 1))"
   ]
  },
  {
   "cell_type": "code",
   "execution_count": null,
   "id": "ad9f6849",
   "metadata": {},
   "outputs": [],
   "source": []
  },
  {
   "cell_type": "code",
   "execution_count": null,
   "id": "24a8e06c",
   "metadata": {},
   "outputs": [],
   "source": []
  },
  {
   "cell_type": "code",
   "execution_count": null,
   "id": "37047faf",
   "metadata": {},
   "outputs": [],
   "source": []
  },
  {
   "cell_type": "code",
   "execution_count": null,
   "id": "61267dc1",
   "metadata": {},
   "outputs": [],
   "source": []
  }
 ],
 "metadata": {
  "kernelspec": {
   "display_name": "Python 3 (ipykernel)",
   "language": "python",
   "name": "python3"
  },
  "language_info": {
   "codemirror_mode": {
    "name": "ipython",
    "version": 3
   },
   "file_extension": ".py",
   "mimetype": "text/x-python",
   "name": "python",
   "nbconvert_exporter": "python",
   "pygments_lexer": "ipython3",
   "version": "3.8.10"
  }
 },
 "nbformat": 4,
 "nbformat_minor": 5
}
