{
 "cells": [
  {
   "cell_type": "code",
   "execution_count": 1,
   "id": "d3eb9d3e",
   "metadata": {},
   "outputs": [],
   "source": [
    "import torch\n",
    "from transformers import AutoTokenizer, AutoModel"
   ]
  },
  {
   "cell_type": "code",
   "execution_count": 2,
   "id": "a774037b",
   "metadata": {},
   "outputs": [],
   "source": [
    "from moscowhack.backend.postgres import get_postgres_connection, SkolkovoProm"
   ]
  },
  {
   "cell_type": "code",
   "execution_count": 3,
   "id": "76193316",
   "metadata": {},
   "outputs": [],
   "source": [
    "psql_db = get_postgres_connection()"
   ]
  },
  {
   "cell_type": "code",
   "execution_count": 6,
   "id": "3bc0bd4d",
   "metadata": {},
   "outputs": [],
   "source": [
    "psql_db.bind([SkolkovoProm])"
   ]
  },
  {
   "cell_type": "code",
   "execution_count": 8,
   "id": "b82cb8e6",
   "metadata": {},
   "outputs": [],
   "source": [
    "with psql_db:\n",
    "    raw_select = SkolkovoProm.select()\n",
    "    records = list(raw_select.dicts())"
   ]
  },
  {
   "cell_type": "code",
   "execution_count": 14,
   "id": "6ab52faa",
   "metadata": {},
   "outputs": [
    {
     "data": {
      "text/plain": [
       "{'name': 'ОБЩЕСТВО С ОГРАНИЧЕННОЙ ОТВЕТСТВЕННОСТЬЮ \"СИБИРСКИЕ ВОДНЫЕ ТЕХНОЛОГИИ\"',\n",
       " 'inn': '5404407249',\n",
       " 'ogrn': '1105404001900',\n",
       " 'description': \"['ООО «Сибирские водные технологии» - это команда ученых и инженеров, работающих над созданием умных систем водоочистки, способных в режиме реального времени контролировать состав воды и качество ее очистки, корректируя, исходя из реальной кондиции загрязненной воды, очистительную программу. Компания работает над разработкой саморегулируемой экосистемы продуктов, которая позволит создавать автономные объекты, функционирующие в режиме постоянного оборота воды, в которых вода после очистки направлялась бы на повторное использование.', 'Специалистами компании разработан ряд технологий: гетерокоагуляции, контроля состава водных сред в потоке, раздельной обработки сточных вод.', 'В команде проекта 7 человек. Основатель компании и ведущий разработчик - доцент кафедры химии Новосибирского государственного университета, автор более 20-ти патентов по тематике водоочистки,  4-х монографий и ряда научных статей - к.х.н. Жуков Борис Дмитриевич. Компания базируется в Новосибирске и имеет представительство в Ханое (Вьетнам).']\"}"
      ]
     },
     "execution_count": 14,
     "metadata": {},
     "output_type": "execute_result"
    }
   ],
   "source": [
    "records[0]"
   ]
  },
  {
   "cell_type": "code",
   "execution_count": 2,
   "id": "d499c4b0",
   "metadata": {},
   "outputs": [],
   "source": []
  },
  {
   "cell_type": "code",
   "execution_count": 3,
   "id": "e076c01d",
   "metadata": {},
   "outputs": [],
   "source": [
    "tokenizer = AutoTokenizer.from_pretrained(\"DeepPavlov/rubert-base-cased-sentence\")\n",
    "model = AutoModel.from_pretrained(\"DeepPavlov/rubert-base-cased-sentence\")"
   ]
  },
  {
   "cell_type": "code",
   "execution_count": 4,
   "id": "9e3ef796",
   "metadata": {},
   "outputs": [],
   "source": []
  },
  {
   "cell_type": "code",
   "execution_count": 8,
   "id": "15d1b2a6",
   "metadata": {},
   "outputs": [],
   "source": [
    "def embed_bert_cls(text, model, tokenizer):\n",
    "    t = tokenizer(text, padding=True, truncation=True, max_length=2048, return_tensors='pt')\n",
    "    with torch.no_grad():\n",
    "        model_output = model(**{k: v.to(model.device) for k, v in t.items()})\n",
    "    embeddings = model_output.last_hidden_state[:, 0, :]\n",
    "    embeddings = torch.nn.functional.normalize(embeddings)\n",
    "    return embeddings[0].cpu().numpy()\n"
   ]
  },
  {
   "cell_type": "code",
   "execution_count": null,
   "id": "30ce66b9",
   "metadata": {},
   "outputs": [],
   "source": [
    "embeds = {\n",
    "    record['inn']:\n",
    "    embed_bert_cls(\n",
    "        record['description'].replace(\"['\", \"\").replace(\"']\", '')\n",
    "        model, tokenizer\n",
    "    )\n",
    "    for record in records\n",
    "}\n"
   ]
  },
  {
   "cell_type": "code",
   "execution_count": null,
   "id": "b512e0e4",
   "metadata": {},
   "outputs": [],
   "source": []
  },
  {
   "cell_type": "code",
   "execution_count": null,
   "id": "ad9f6849",
   "metadata": {},
   "outputs": [],
   "source": []
  },
  {
   "cell_type": "code",
   "execution_count": null,
   "id": "24a8e06c",
   "metadata": {},
   "outputs": [],
   "source": []
  },
  {
   "cell_type": "code",
   "execution_count": null,
   "id": "37047faf",
   "metadata": {},
   "outputs": [],
   "source": []
  },
  {
   "cell_type": "code",
   "execution_count": null,
   "id": "61267dc1",
   "metadata": {},
   "outputs": [],
   "source": []
  }
 ],
 "metadata": {
  "kernelspec": {
   "display_name": "Python 3 (ipykernel)",
   "language": "python",
   "name": "python3"
  },
  "language_info": {
   "codemirror_mode": {
    "name": "ipython",
    "version": 3
   },
   "file_extension": ".py",
   "mimetype": "text/x-python",
   "name": "python",
   "nbconvert_exporter": "python",
   "pygments_lexer": "ipython3",
   "version": "3.9.13"
  }
 },
 "nbformat": 4,
 "nbformat_minor": 5
}
