{
 "cells": [
  {
   "cell_type": "code",
   "execution_count": null,
   "id": "d3eb9d3e",
   "metadata": {},
   "outputs": [],
   "source": [
    "import torch\n",
    "from transformers import AutoTokenizer, AutoModel"
   ]
  },
  {
   "cell_type": "code",
   "execution_count": null,
   "id": "350f77f0",
   "metadata": {},
   "outputs": [],
   "source": [
    "from moscowhack.backend.postgres import get_postgres_connection, SkolkovoProm"
   ]
  },
  {
   "cell_type": "code",
   "execution_count": null,
   "id": "8c8a3183",
   "metadata": {},
   "outputs": [],
   "source": [
    "psql_db = get_postgres_connection()"
   ]
  },
  {
   "cell_type": "code",
   "execution_count": null,
   "id": "e36b284c",
   "metadata": {},
   "outputs": [],
   "source": [
    "psql_db.bind([SkolkovoProm])"
   ]
  },
  {
   "cell_type": "code",
   "execution_count": null,
   "id": "ba318fb0",
   "metadata": {},
   "outputs": [],
   "source": [
    "with psql_db:\n",
    "    raw_select = SkolkovoProm.select()\n",
    "    records = list(raw_select.dicts())"
   ]
  },
  {
   "cell_type": "code",
   "execution_count": null,
   "id": "ed597d83",
   "metadata": {},
   "outputs": [],
   "source": []
  },
  {
   "cell_type": "code",
   "execution_count": null,
   "id": "d499c4b0",
   "metadata": {},
   "outputs": [],
   "source": []
  },
  {
   "cell_type": "code",
   "execution_count": null,
   "id": "e076c01d",
   "metadata": {},
   "outputs": [],
   "source": [
    "tokenizer = AutoTokenizer.from_pretrained(\"DeepPavlov/rubert-base-cased-sentence\")\n",
    "model = AutoModel.from_pretrained(\"DeepPavlov/rubert-base-cased-sentence\")"
   ]
  },
  {
   "cell_type": "code",
   "execution_count": null,
   "id": "9e3ef796",
   "metadata": {},
   "outputs": [],
   "source": []
  },
  {
   "cell_type": "code",
   "execution_count": null,
   "id": "15d1b2a6",
   "metadata": {},
   "outputs": [],
   "source": [
    "def embed_bert_cls(text, model, tokenizer):\n",
    "    t = tokenizer(text, padding=True, truncation=True, max_length=2048, return_tensors='pt')\n",
    "    with torch.no_grad():\n",
    "        model_output = model(**{k: v.to(model.device) for k, v in t.items()})\n",
    "    embeddings = model_output.last_hidden_state[:, 0, :]\n",
    "    embeddings = torch.nn.functional.normalize(embeddings)\n",
    "    return embeddings[0].cpu().numpy()\n"
   ]
  },
  {
   "cell_type": "code",
   "execution_count": null,
   "id": "5a8b742f",
   "metadata": {},
   "outputs": [],
   "source": [
    "embeds = {\n",
    "    record['inn']:\n",
    "    embed_bert_cls(\n",
    "        record['description'].replace(\"['\", \"\").replace(\"']\", '')\n",
    "        model, tokenizer\n",
    "    )\n",
    "    for record in records\n",
    "}\n"
   ]
  },
  {
   "cell_type": "code",
   "execution_count": null,
   "id": "791a594b",
   "metadata": {},
   "outputs": [],
   "source": []
  },
  {
   "cell_type": "code",
   "execution_count": null,
   "id": "ad9f6849",
   "metadata": {},
   "outputs": [],
   "source": []
  },
  {
   "cell_type": "code",
   "execution_count": null,
   "id": "24a8e06c",
   "metadata": {},
   "outputs": [],
   "source": []
  },
  {
   "cell_type": "code",
   "execution_count": null,
   "id": "37047faf",
   "metadata": {},
   "outputs": [],
   "source": []
  },
  {
   "cell_type": "code",
   "execution_count": null,
   "id": "61267dc1",
   "metadata": {},
   "outputs": [],
   "source": []
  }
 ],
 "metadata": {
  "kernelspec": {
   "display_name": "Python 3 (ipykernel)",
   "language": "python",
   "name": "python3"
  },
  "language_info": {
   "codemirror_mode": {
    "name": "ipython",
    "version": 3
   },
   "file_extension": ".py",
   "mimetype": "text/x-python",
   "name": "python",
   "nbconvert_exporter": "python",
   "pygments_lexer": "ipython3",
   "version": "3.9.13"
  }
 },
 "nbformat": 4,
 "nbformat_minor": 5
}
